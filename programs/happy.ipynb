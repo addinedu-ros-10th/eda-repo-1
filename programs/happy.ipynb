{
 "cells": [
  {
   "cell_type": "code",
   "execution_count": 1,
   "id": "e9fab999",
   "metadata": {},
   "outputs": [],
   "source": [
    "from selenium import webdriver\n",
    "from selenium.webdriver.chrome.service import Service\n",
    "from selenium.webdriver.common.by import By\n",
    "from selenium.webdriver.common.keys import Keys\n",
    "from selenium.webdriver import ActionChains\n",
    "from bs4 import BeautifulSoup\n",
    "from selenium.common.exceptions import NoAlertPresentException\n",
    "\n",
    "from time import sleep\n",
    "from tqdm.notebook import tqdm\n",
    "from tqdm import tqdm\n",
    "\n",
    "import pandas as pd\n",
    "import mysql.connector"
   ]
  },
  {
   "cell_type": "code",
   "execution_count": 6,
   "id": "9a7da16a",
   "metadata": {},
   "outputs": [],
   "source": [
    "def Sql_start(name, Password, DB):\n",
    "    try:\n",
    "        return mysql.connector.connect(\n",
    "            host = \"database-1.c3wcyagu0dve.ap-northeast-2.rds.amazonaws.com\",\n",
    "            port = \"3306\",\n",
    "            user = name,\n",
    "            password = Password,\n",
    "            database = DB\n",
    "        )\n",
    "    except mysql.connector.Error as err:\n",
    "        print(\"연결 실패: [err]\")\n",
    "        return None"
   ]
  },
  {
   "cell_type": "code",
   "execution_count": 7,
   "id": "3f7db0aa",
   "metadata": {},
   "outputs": [],
   "source": [
    "DataBase = Sql_start(\"root\", \"Rrnrrn1!\", \"amrbase\")\n",
    "aws_cur = DataBase.cursor(buffered=True)"
   ]
  },
  {
   "cell_type": "code",
   "execution_count": 8,
   "id": "db0d0e76",
   "metadata": {},
   "outputs": [],
   "source": [
    "DataBase.close()"
   ]
  },
  {
   "cell_type": "code",
   "execution_count": 16,
   "id": "6c034197",
   "metadata": {},
   "outputs": [],
   "source": [
    "driver = webdriver.Chrome(service=Service(\"../driver/chromedriver\"))\n",
    "driver.get(\"https://www.naver.com\")\n",
    "sleep(0.5)\n",
    "\n",
    "#키워드 검색\n",
    "search_Robot = driver.find_element(By.CLASS_NAME, \"search_input\")\n",
    "search_Robot.send_keys(\"불쾌지수\")\n",
    "sleep(0.5)\n",
    "search_Robot.send_keys(Keys.ENTER)\n",
    "driver.implicitly_wait(3)\n",
    "\n",
    "#뉴스탭 탭 클릭\n",
    "News_Cleck = (driver.find_element(By.CLASS_NAME, \"lnb_nav.type_t2._lnb_nav_root\")).find_element(By.PARTIAL_LINK_TEXT, \"뉴스\")\n",
    "News_Cleck.click()\n",
    "sleep(1)\n",
    "\n",
    "#Corporate_Code = driver.find_element(By.CLASS_NAME, \"Tabs_root__1cw1bss0\")\n",
    "#Corporate_Code_HTML = Corporate_Code.get_attribute('outerHTML')\n",
    "#soup = BeautifulSoup(Corporate_Code_HTML, 'html.parser')"
   ]
  },
  {
   "cell_type": "code",
   "execution_count": null,
   "id": "1aef8ecc",
   "metadata": {},
   "outputs": [],
   "source": [
    "def Page_Open(Name):\n",
    "    Page_link_num = driver.find_element(By.TAG_NAME,\"nav\")\n",
    "\n",
    "    Page_run = Page_link_num.find_element(By.PARTIAL_LINK_TEXT, Name)\n",
    "    driver.execute_script(\"window.scrollTo(0, document.body.scrollHeight)\")\n",
    "    sleep(0.5)\n",
    "    Page_run.click()\n",
    "    \n",
    "# 기존 탭 저장\n",
    "    original_window = driver.current_window_handle\n",
    "\n",
    "# 현재 열려있는 모든 탭 핸들 가져오기\n",
    "    windows = driver.window_handles\n",
    "\n",
    "    return original_window, windows"
   ]
  },
  {
   "cell_type": "code",
   "execution_count": 17,
   "id": "7721045e",
   "metadata": {},
   "outputs": [],
   "source": [
    "#웹 닫기\n",
    "driver.quit()"
   ]
  }
 ],
 "metadata": {
  "kernelspec": {
   "display_name": "eda_venv",
   "language": "python",
   "name": "python3"
  },
  "language_info": {
   "codemirror_mode": {
    "name": "ipython",
    "version": 3
   },
   "file_extension": ".py",
   "mimetype": "text/x-python",
   "name": "python",
   "nbconvert_exporter": "python",
   "pygments_lexer": "ipython3",
   "version": "3.12.3"
  }
 },
 "nbformat": 4,
 "nbformat_minor": 5
}
