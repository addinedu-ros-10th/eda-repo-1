{
 "cells": [
  {
   "cell_type": "code",
   "execution_count": 1,
   "id": "e9fab999",
   "metadata": {},
   "outputs": [],
   "source": [
    "from selenium import webdriver\n",
    "from selenium.webdriver.chrome.service import Service\n",
    "from selenium.webdriver.common.by import By\n",
    "from selenium.webdriver.common.keys import Keys\n",
    "from selenium.webdriver import ActionChains\n",
    "from bs4 import BeautifulSoup\n",
    "from selenium.common.exceptions import NoAlertPresentException\n",
    "\n",
    "from time import sleep\n",
    "from tqdm.notebook import tqdm\n",
    "from tqdm import tqdm\n",
    "\n",
    "import pandas as pd\n",
    "import mysql.connector"
   ]
  },
  {
   "cell_type": "code",
   "execution_count": 6,
   "id": "9a7da16a",
   "metadata": {},
   "outputs": [],
   "source": [
    "def Sql_start(name, Password, DB):\n",
    "    try:\n",
    "        return mysql.connector.connect(\n",
    "            host = \"database-1.c3wcyagu0dve.ap-northeast-2.rds.amazonaws.com\",\n",
    "            port = \"3306\",\n",
    "            user = name,\n",
    "            password = Password,\n",
    "            database = DB\n",
    "        )\n",
    "    except mysql.connector.Error as err:\n",
    "        print(\"연결 실패: [err]\")\n",
    "        return None"
   ]
  },
  {
   "cell_type": "code",
   "execution_count": 7,
   "id": "3f7db0aa",
   "metadata": {},
   "outputs": [],
   "source": [
    "DataBase = Sql_start(\"root\", \"Rrnrrn1!\", \"amrbase\")\n",
    "aws_cur = DataBase.cursor(buffered=True)"
   ]
  },
  {
   "cell_type": "code",
   "execution_count": 8,
   "id": "db0d0e76",
   "metadata": {},
   "outputs": [],
   "source": [
    "DataBase.close()"
   ]
  },
  {
   "cell_type": "code",
   "execution_count": 2,
   "id": "6c034197",
   "metadata": {},
   "outputs": [],
   "source": [
    "#웹 페이지 열기\n",
    "driver = webdriver.Chrome(service=Service(\"../../driver/chromedriver\"))\n",
    "driver.get(\"https://www.naver.com\")\n",
    "sleep(0.5)"
   ]
  },
  {
   "cell_type": "code",
   "execution_count": 3,
   "id": "7721045e",
   "metadata": {},
   "outputs": [],
   "source": [
    "#웹 닫기\n",
    "driver.quit()"
   ]
  }
 ],
 "metadata": {
  "kernelspec": {
   "display_name": "eda_venv",
   "language": "python",
   "name": "python3"
  },
  "language_info": {
   "codemirror_mode": {
    "name": "ipython",
    "version": 3
   },
   "file_extension": ".py",
   "mimetype": "text/x-python",
   "name": "python",
   "nbconvert_exporter": "python",
   "pygments_lexer": "ipython3",
   "version": "3.12.3"
  }
 },
 "nbformat": 4,
 "nbformat_minor": 5
}
